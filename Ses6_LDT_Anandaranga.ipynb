{
 "cells": [
  {
   "cell_type": "markdown",
   "metadata": {},
   "source": [
    "## Session 6 - LDT\n",
    "### Student name: K. Anandaranga"
   ]
  },
  {
   "cell_type": "code",
   "execution_count": 1,
   "metadata": {},
   "outputs": [],
   "source": [
    "#Given a two dimensional array, how to extract unique rows?"
   ]
  },
  {
   "cell_type": "code",
   "execution_count": 3,
   "metadata": {},
   "outputs": [
    {
     "name": "stdout",
     "output_type": "stream",
     "text": [
      "[[0 0 1]\n",
      " [0 1 0]\n",
      " [1 0 0]\n",
      " [1 0 1]]\n"
     ]
    }
   ],
   "source": [
    "import numpy as np\n",
    "\n",
    "Z = np.random.randint(0,2,(6,3))\n",
    "T = np.ascontiguousarray(Z).view(np.dtype((np.void, Z.dtype.itemsize * Z.shape[1])))\n",
    "_, idx = np.unique(T, return_index=True)\n",
    "uZ = Z[idx]\n",
    "print(uZ)"
   ]
  },
  {
   "cell_type": "code",
   "execution_count": 4,
   "metadata": {},
   "outputs": [],
   "source": [
    "#Considering a 10x3 matrix, extract rows with unequal values (e.g. [2,2,3])"
   ]
  },
  {
   "cell_type": "code",
   "execution_count": 5,
   "metadata": {},
   "outputs": [
    {
     "name": "stdout",
     "output_type": "stream",
     "text": [
      "[[4 1 4]\n",
      " [4 0 4]\n",
      " [0 1 4]\n",
      " [4 1 0]\n",
      " [4 3 0]\n",
      " [2 4 2]\n",
      " [3 4 2]\n",
      " [2 1 3]\n",
      " [2 3 2]\n",
      " [0 3 0]]\n",
      "[[4 1 4]\n",
      " [4 0 4]\n",
      " [0 1 4]\n",
      " [4 1 0]\n",
      " [4 3 0]\n",
      " [2 4 2]\n",
      " [3 4 2]\n",
      " [2 1 3]\n",
      " [2 3 2]\n",
      " [0 3 0]]\n"
     ]
    }
   ],
   "source": [
    "Z = np.random.randint(0,5,(10,3))\n",
    "E = np.logical_and.reduce(Z[:,1:] == Z[:,:-1], axis=1)\n",
    "U = Z[~E]\n",
    "print(Z)\n",
    "print(U)"
   ]
  },
  {
   "cell_type": "code",
   "execution_count": 6,
   "metadata": {},
   "outputs": [],
   "source": [
    "#Consider two arrays A and B of shape (8,3) and (2,2). How to find rows of\n",
    "#A that contain elements of each row of B regardless of the order of the elements in B?"
   ]
  },
  {
   "cell_type": "code",
   "execution_count": 7,
   "metadata": {},
   "outputs": [
    {
     "name": "stdout",
     "output_type": "stream",
     "text": [
      "[0 1 2 3 6 7]\n"
     ]
    }
   ],
   "source": [
    "A = np.random.randint(0,5,(8,3))\n",
    "B = np.random.randint(0,5,(2,2))\n",
    "C = (A[..., np.newaxis, np.newaxis] == B)\n",
    "rows = (C.sum(axis=(1,2,3)) >= B.shape[1]).nonzero()[0]\n",
    "print(rows)"
   ]
  },
  {
   "cell_type": "code",
   "execution_count": 8,
   "metadata": {},
   "outputs": [],
   "source": [
    "#Given an arbitrary number of vectors, build the cartesian product (every combinations of every item)"
   ]
  },
  {
   "cell_type": "code",
   "execution_count": 11,
   "metadata": {},
   "outputs": [
    {
     "name": "stdout",
     "output_type": "stream",
     "text": [
      "[[1 4 6]\n",
      " [1 4 7]\n",
      " [1 5 6]\n",
      " [1 5 7]\n",
      " [2 4 6]\n",
      " [2 4 7]\n",
      " [2 5 6]\n",
      " [2 5 7]\n",
      " [3 4 6]\n",
      " [3 4 7]\n",
      " [3 5 6]\n",
      " [3 5 7]]\n"
     ]
    }
   ],
   "source": [
    "def cartesian(arrays):\n",
    "    arrays = [np.asarray(a) for a in arrays]\n",
    "    shape = (len(x) for x in arrays)\n",
    "    ix = np.indices(shape, dtype=int)\n",
    "    ix = ix.reshape(len(arrays), -1).T\n",
    "    for n, arr in enumerate(arrays):\n",
    "        ix[:, n] = arrays[n][ix[:, n]]\n",
    "    return ix\n",
    "\n",
    "print (cartesian(([1, 2, 3], [4, 5], [6, 7])))\n"
   ]
  },
  {
   "cell_type": "code",
   "execution_count": 12,
   "metadata": {},
   "outputs": [],
   "source": [
    "#find the most frequent value in an array?"
   ]
  },
  {
   "cell_type": "code",
   "execution_count": 13,
   "metadata": {},
   "outputs": [
    {
     "name": "stdout",
     "output_type": "stream",
     "text": [
      "1\n"
     ]
    }
   ],
   "source": [
    "Z = np.random.randint(0,10,50)\n",
    "print(np.bincount(Z).argmax())"
   ]
  },
  {
   "cell_type": "code",
   "execution_count": 16,
   "metadata": {},
   "outputs": [
    {
     "data": {
      "text/plain": [
       "10"
      ]
     },
     "execution_count": 16,
     "metadata": {},
     "output_type": "execute_result"
    }
   ],
   "source": [
    "# compute the rank of a matrix\n",
    "\n",
    "Z = np.random.uniform(0,1,(10,10))\n",
    "U, S, V = np.linalg.svd(Z) # Singular Value Decomposition\n",
    "rank = np.sum(S > 1e-10)\n",
    "\n",
    "rank"
   ]
  },
  {
   "cell_type": "code",
   "execution_count": 18,
   "metadata": {},
   "outputs": [
    {
     "name": "stdout",
     "output_type": "stream",
     "text": [
      "[[0 1 2]\n",
      " [1 2 3]\n",
      " [2 3 4]\n",
      " [3 4 5]\n",
      " [4 5 6]\n",
      " [5 6 7]\n",
      " [6 7 8]\n",
      " [7 8 9]]\n"
     ]
    }
   ],
   "source": [
    "#Consider a one-dimensional array Z, build a two-dimensional array from it\n",
    "\n",
    "from numpy.lib import stride_tricks\n",
    "\n",
    "def rolling(a, window):\n",
    "    shape = (a.size - window + 1, window)\n",
    "    strides = (a.itemsize, a.itemsize)\n",
    "    return stride_tricks.as_strided(a, shape=shape, strides=strides)\n",
    "\n",
    "Z = rolling(np.arange(10), 3)\n",
    "print(Z)"
   ]
  },
  {
   "cell_type": "code",
   "execution_count": 19,
   "metadata": {},
   "outputs": [
    {
     "name": "stdout",
     "output_type": "stream",
     "text": [
      "[[[[1 4 3]\n",
      "   [3 2 4]\n",
      "   [4 3 0]]\n",
      "\n",
      "  [[4 3 1]\n",
      "   [2 4 2]\n",
      "   [3 0 4]]\n",
      "\n",
      "  [[3 1 4]\n",
      "   [4 2 4]\n",
      "   [0 4 0]]\n",
      "\n",
      "  [[1 4 3]\n",
      "   [2 4 1]\n",
      "   [4 0 4]]\n",
      "\n",
      "  [[4 3 3]\n",
      "   [4 1 4]\n",
      "   [0 4 4]]\n",
      "\n",
      "  [[3 3 0]\n",
      "   [1 4 3]\n",
      "   [4 4 4]]\n",
      "\n",
      "  [[3 0 4]\n",
      "   [4 3 4]\n",
      "   [4 4 4]]\n",
      "\n",
      "  [[0 4 2]\n",
      "   [3 4 2]\n",
      "   [4 4 0]]]\n",
      "\n",
      "\n",
      " [[[3 2 4]\n",
      "   [4 3 0]\n",
      "   [0 1 0]]\n",
      "\n",
      "  [[2 4 2]\n",
      "   [3 0 4]\n",
      "   [1 0 2]]\n",
      "\n",
      "  [[4 2 4]\n",
      "   [0 4 0]\n",
      "   [0 2 4]]\n",
      "\n",
      "  [[2 4 1]\n",
      "   [4 0 4]\n",
      "   [2 4 1]]\n",
      "\n",
      "  [[4 1 4]\n",
      "   [0 4 4]\n",
      "   [4 1 3]]\n",
      "\n",
      "  [[1 4 3]\n",
      "   [4 4 4]\n",
      "   [1 3 4]]\n",
      "\n",
      "  [[4 3 4]\n",
      "   [4 4 4]\n",
      "   [3 4 0]]\n",
      "\n",
      "  [[3 4 2]\n",
      "   [4 4 0]\n",
      "   [4 0 2]]]\n",
      "\n",
      "\n",
      " [[[4 3 0]\n",
      "   [0 1 0]\n",
      "   [3 0 4]]\n",
      "\n",
      "  [[3 0 4]\n",
      "   [1 0 2]\n",
      "   [0 4 1]]\n",
      "\n",
      "  [[0 4 0]\n",
      "   [0 2 4]\n",
      "   [4 1 3]]\n",
      "\n",
      "  [[4 0 4]\n",
      "   [2 4 1]\n",
      "   [1 3 2]]\n",
      "\n",
      "  [[0 4 4]\n",
      "   [4 1 3]\n",
      "   [3 2 2]]\n",
      "\n",
      "  [[4 4 4]\n",
      "   [1 3 4]\n",
      "   [2 2 1]]\n",
      "\n",
      "  [[4 4 4]\n",
      "   [3 4 0]\n",
      "   [2 1 2]]\n",
      "\n",
      "  [[4 4 0]\n",
      "   [4 0 2]\n",
      "   [1 2 1]]]\n",
      "\n",
      "\n",
      " [[[0 1 0]\n",
      "   [3 0 4]\n",
      "   [3 1 1]]\n",
      "\n",
      "  [[1 0 2]\n",
      "   [0 4 1]\n",
      "   [1 1 2]]\n",
      "\n",
      "  [[0 2 4]\n",
      "   [4 1 3]\n",
      "   [1 2 0]]\n",
      "\n",
      "  [[2 4 1]\n",
      "   [1 3 2]\n",
      "   [2 0 3]]\n",
      "\n",
      "  [[4 1 3]\n",
      "   [3 2 2]\n",
      "   [0 3 4]]\n",
      "\n",
      "  [[1 3 4]\n",
      "   [2 2 1]\n",
      "   [3 4 4]]\n",
      "\n",
      "  [[3 4 0]\n",
      "   [2 1 2]\n",
      "   [4 4 2]]\n",
      "\n",
      "  [[4 0 2]\n",
      "   [1 2 1]\n",
      "   [4 2 2]]]\n",
      "\n",
      "\n",
      " [[[3 0 4]\n",
      "   [3 1 1]\n",
      "   [1 1 3]]\n",
      "\n",
      "  [[0 4 1]\n",
      "   [1 1 2]\n",
      "   [1 3 4]]\n",
      "\n",
      "  [[4 1 3]\n",
      "   [1 2 0]\n",
      "   [3 4 0]]\n",
      "\n",
      "  [[1 3 2]\n",
      "   [2 0 3]\n",
      "   [4 0 1]]\n",
      "\n",
      "  [[3 2 2]\n",
      "   [0 3 4]\n",
      "   [0 1 3]]\n",
      "\n",
      "  [[2 2 1]\n",
      "   [3 4 4]\n",
      "   [1 3 1]]\n",
      "\n",
      "  [[2 1 2]\n",
      "   [4 4 2]\n",
      "   [3 1 0]]\n",
      "\n",
      "  [[1 2 1]\n",
      "   [4 2 2]\n",
      "   [1 0 1]]]\n",
      "\n",
      "\n",
      " [[[3 1 1]\n",
      "   [1 1 3]\n",
      "   [1 4 3]]\n",
      "\n",
      "  [[1 1 2]\n",
      "   [1 3 4]\n",
      "   [4 3 1]]\n",
      "\n",
      "  [[1 2 0]\n",
      "   [3 4 0]\n",
      "   [3 1 2]]\n",
      "\n",
      "  [[2 0 3]\n",
      "   [4 0 1]\n",
      "   [1 2 0]]\n",
      "\n",
      "  [[0 3 4]\n",
      "   [0 1 3]\n",
      "   [2 0 3]]\n",
      "\n",
      "  [[3 4 4]\n",
      "   [1 3 1]\n",
      "   [0 3 0]]\n",
      "\n",
      "  [[4 4 2]\n",
      "   [3 1 0]\n",
      "   [3 0 0]]\n",
      "\n",
      "  [[4 2 2]\n",
      "   [1 0 1]\n",
      "   [0 0 2]]]\n",
      "\n",
      "\n",
      " [[[1 1 3]\n",
      "   [1 4 3]\n",
      "   [1 3 1]]\n",
      "\n",
      "  [[1 3 4]\n",
      "   [4 3 1]\n",
      "   [3 1 2]]\n",
      "\n",
      "  [[3 4 0]\n",
      "   [3 1 2]\n",
      "   [1 2 1]]\n",
      "\n",
      "  [[4 0 1]\n",
      "   [1 2 0]\n",
      "   [2 1 2]]\n",
      "\n",
      "  [[0 1 3]\n",
      "   [2 0 3]\n",
      "   [1 2 3]]\n",
      "\n",
      "  [[1 3 1]\n",
      "   [0 3 0]\n",
      "   [2 3 0]]\n",
      "\n",
      "  [[3 1 0]\n",
      "   [3 0 0]\n",
      "   [3 0 2]]\n",
      "\n",
      "  [[1 0 1]\n",
      "   [0 0 2]\n",
      "   [0 2 1]]]\n",
      "\n",
      "\n",
      " [[[1 4 3]\n",
      "   [1 3 1]\n",
      "   [0 0 0]]\n",
      "\n",
      "  [[4 3 1]\n",
      "   [3 1 2]\n",
      "   [0 0 3]]\n",
      "\n",
      "  [[3 1 2]\n",
      "   [1 2 1]\n",
      "   [0 3 3]]\n",
      "\n",
      "  [[1 2 0]\n",
      "   [2 1 2]\n",
      "   [3 3 3]]\n",
      "\n",
      "  [[2 0 3]\n",
      "   [1 2 3]\n",
      "   [3 3 0]]\n",
      "\n",
      "  [[0 3 0]\n",
      "   [2 3 0]\n",
      "   [3 0 0]]\n",
      "\n",
      "  [[3 0 0]\n",
      "   [3 0 2]\n",
      "   [0 0 1]]\n",
      "\n",
      "  [[0 0 2]\n",
      "   [0 2 1]\n",
      "   [0 1 0]]]]\n"
     ]
    }
   ],
   "source": [
    "#Extract all the contiguous 3x3 blocks from a random 10x10 matrix\n",
    "\n",
    "Z = np.random.randint(0,5,(10,10))\n",
    "n = 3\n",
    "i = 1 + (Z.shape[0]-3)\n",
    "j = 1 + (Z.shape[1]-3)\n",
    "C = stride_tricks.as_strided(Z, shape=(i, j, n, n), strides=Z.strides + Z.strides)\n",
    "print(C)"
   ]
  },
  {
   "cell_type": "code",
   "execution_count": 20,
   "metadata": {},
   "outputs": [
    {
     "name": "stdout",
     "output_type": "stream",
     "text": [
      "[  1.   2.   3.   4.   5.   6.   7.   8.   9.  10.  11.  12.  13.  14.  15.\n",
      "  16.  17.  18.]\n"
     ]
    }
   ],
   "source": [
    "#how to compute moving averages of 3 period and 5 period over an array\n",
    "\n",
    "def moving_average(a, n=3) :\n",
    "    ret = np.cumsum(a, dtype=float)\n",
    "    ret[n:] = ret[n:] - ret[:-n]\n",
    "    return ret[n - 1:] / n\n",
    "Z = np.arange(20)\n",
    "print(moving_average(Z, n=3))"
   ]
  },
  {
   "cell_type": "code",
   "execution_count": 21,
   "metadata": {},
   "outputs": [
    {
     "name": "stdout",
     "output_type": "stream",
     "text": [
      "[  2.   3.   4.   5.   6.   7.   8.   9.  10.  11.  12.  13.  14.  15.  16.\n",
      "  17.]\n"
     ]
    }
   ],
   "source": [
    "def moving_average(a, n=5) :\n",
    "    ret = np.cumsum(a, dtype=float)\n",
    "    ret[n:] = ret[n:] - ret[:-n]\n",
    "    return ret[n - 1:] / n\n",
    "Z = np.arange(20)\n",
    "print(moving_average(Z, n=5))"
   ]
  },
  {
   "cell_type": "code",
   "execution_count": 22,
   "metadata": {},
   "outputs": [
    {
     "name": "stdout",
     "output_type": "stream",
     "text": [
      "[[[ 2.  2.  2.]\n",
      "  [ 2.  2.  2.]\n",
      "  [ 2.  2.  2.]\n",
      "  [ 2.  2.  2.]\n",
      "  [ 2.  2.  2.]]\n",
      "\n",
      " [[ 2.  2.  2.]\n",
      "  [ 2.  2.  2.]\n",
      "  [ 2.  2.  2.]\n",
      "  [ 2.  2.  2.]\n",
      "  [ 2.  2.  2.]]\n",
      "\n",
      " [[ 2.  2.  2.]\n",
      "  [ 2.  2.  2.]\n",
      "  [ 2.  2.  2.]\n",
      "  [ 2.  2.  2.]\n",
      "  [ 2.  2.  2.]]\n",
      "\n",
      " [[ 2.  2.  2.]\n",
      "  [ 2.  2.  2.]\n",
      "  [ 2.  2.  2.]\n",
      "  [ 2.  2.  2.]\n",
      "  [ 2.  2.  2.]]\n",
      "\n",
      " [[ 2.  2.  2.]\n",
      "  [ 2.  2.  2.]\n",
      "  [ 2.  2.  2.]\n",
      "  [ 2.  2.  2.]\n",
      "  [ 2.  2.  2.]]]\n"
     ]
    }
   ],
   "source": [
    "#Consider an array of dimension (5,5,3), how to mulitply it by an array with dimensions (5,5)?\n",
    "\n",
    "A = np.ones((5,5,3))\n",
    "B = 2*np.ones((5,5))\n",
    "print(A * B[:,:,None])"
   ]
  },
  {
   "cell_type": "code",
   "execution_count": 24,
   "metadata": {},
   "outputs": [
    {
     "data": {
      "text/plain": [
       "array([  60,  672, 1932, 3840, 6396])"
      ]
     },
     "execution_count": 24,
     "metadata": {},
     "output_type": "execute_result"
    }
   ],
   "source": [
    "#How to get the diagonal of a dot product?\n",
    "import numpy as np\n",
    "a = np.arange(15).reshape(5, 3)\n",
    "b = np.arange(9).reshape(3, 3)\n",
    "np.diag(np.dot(np.dot(a, b), a.T))"
   ]
  },
  {
   "cell_type": "code",
   "execution_count": 25,
   "metadata": {},
   "outputs": [
    {
     "data": {
      "text/plain": [
       "array([  60,  672, 1932, 3840, 6396])"
      ]
     },
     "execution_count": 25,
     "metadata": {},
     "output_type": "execute_result"
    }
   ],
   "source": [
    "np.einsum('ij,ji->i', np.dot(a, b), a.T)"
   ]
  },
  {
   "cell_type": "code",
   "execution_count": 26,
   "metadata": {},
   "outputs": [
    {
     "data": {
      "text/plain": [
       "array([  60,  672, 1932, 3840, 6396])"
      ]
     },
     "execution_count": 26,
     "metadata": {},
     "output_type": "execute_result"
    }
   ],
   "source": [
    "np.einsum('ij,ij->i', np.dot(a, b), a)"
   ]
  },
  {
   "cell_type": "code",
   "execution_count": 27,
   "metadata": {},
   "outputs": [
    {
     "data": {
      "text/plain": [
       "array([  60,  672, 1932, 3840, 6396])"
      ]
     },
     "execution_count": 27,
     "metadata": {},
     "output_type": "execute_result"
    }
   ],
   "source": [
    "#get the whole thing in a single shot\n",
    "\n",
    "np.einsum('ij,jk,ki->i', a, b, a.T)"
   ]
  },
  {
   "cell_type": "code",
   "execution_count": 28,
   "metadata": {},
   "outputs": [
    {
     "data": {
      "text/plain": [
       "array([  60,  672, 1932, 3840, 6396])"
      ]
     },
     "execution_count": 28,
     "metadata": {},
     "output_type": "execute_result"
    }
   ],
   "source": [
    "np.einsum('ij,jk,ik->i', a, b, a)"
   ]
  },
  {
   "cell_type": "code",
   "execution_count": 29,
   "metadata": {},
   "outputs": [],
   "source": [
    "#make performance evaluation of all the above queries\n",
    "n, p = 10000, 200\n",
    "a = np.random.rand(n, p)\n",
    "b = np.random.rand(p, p)"
   ]
  },
  {
   "cell_type": "code",
   "execution_count": 30,
   "metadata": {},
   "outputs": [
    {
     "name": "stdout",
     "output_type": "stream",
     "text": [
      "1 loop, best of 3: 874 ms per loop\n"
     ]
    }
   ],
   "source": [
    "%timeit np.einsum('ij,jk,ki->i', a, b, a.T)"
   ]
  },
  {
   "cell_type": "code",
   "execution_count": 31,
   "metadata": {},
   "outputs": [
    {
     "name": "stdout",
     "output_type": "stream",
     "text": [
      "10 loops, best of 3: 25 ms per loop\n"
     ]
    }
   ],
   "source": [
    "%timeit np.einsum('ij,ij->i', np.dot(a, b), a)"
   ]
  },
  {
   "cell_type": "code",
   "execution_count": 32,
   "metadata": {},
   "outputs": [
    {
     "name": "stdout",
     "output_type": "stream",
     "text": [
      "1 loop, best of 3: 1.03 s per loop\n"
     ]
    }
   ],
   "source": [
    "%timeit np.diag(np.dot(np.dot(a, b), a.T))"
   ]
  },
  {
   "cell_type": "code",
   "execution_count": 33,
   "metadata": {},
   "outputs": [
    {
     "name": "stdout",
     "output_type": "stream",
     "text": [
      "10 loops, best of 3: 41.9 ms per loop\n"
     ]
    }
   ],
   "source": [
    "%timeit (a.dot(b) * a).sum(-1)"
   ]
  },
  {
   "cell_type": "code",
   "execution_count": null,
   "metadata": {},
   "outputs": [],
   "source": []
  }
 ],
 "metadata": {
  "kernelspec": {
   "display_name": "Python 3",
   "language": "python",
   "name": "python3"
  },
  "language_info": {
   "codemirror_mode": {
    "name": "ipython",
    "version": 3
   },
   "file_extension": ".py",
   "mimetype": "text/x-python",
   "name": "python",
   "nbconvert_exporter": "python",
   "pygments_lexer": "ipython3",
   "version": "3.6.1"
  }
 },
 "nbformat": 4,
 "nbformat_minor": 2
}
